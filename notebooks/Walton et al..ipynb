{
 "cells": [
  {
   "cell_type": "code",
   "execution_count": null,
   "id": "9c3b1b4d",
   "metadata": {
    "ExecuteTime": {
     "end_time": "2022-12-08T14:16:59.663123Z",
     "start_time": "2022-12-08T14:16:35.459096Z"
    }
   },
   "outputs": [],
   "source": [
    "import sys, os, re, random, warnings, subprocess, time\n",
    "sys.path.append(os.path.dirname(os.getcwd()))\n",
    "warnings.filterwarnings(\"ignore\")\n",
    "\n",
    "from tqdm import tqdm_notebook\n",
    "from itertools import product\n",
    "from random import shuffle\n",
    "\n",
    "import torch\n",
    "from torch import nn, optim\n",
    "from torch.utils.data import DataLoader, Dataset\n",
    "import torch.nn.functional as F\n",
    "\n",
    "from torchpgm.model import *\n",
    "from torchpgm.edge import Edge\n",
    "from torchpgm.layers import *\n",
    "from torchpgm.graphic import draw_G\n",
    "from torchpgm.data import RBMDataWithPAM, RBMData\n",
    "\n",
    "from sklearn.metrics import * \n",
    "from config import *\n",
    "from utils import *\n",
    "from utils.pam import *\n",
    "\n",
    "from walker import * "
   ]
  },
  {
   "cell_type": "code",
   "execution_count": null,
   "id": "399ea337",
   "metadata": {
    "ExecuteTime": {
     "end_time": "2022-12-08T14:17:00.202198Z",
     "start_time": "2022-12-08T14:17:00.195752Z"
    }
   },
   "outputs": [],
   "source": [
    "device = \"cuda\"\n",
    "folder = f\"{DATA}/cas9/vink\"\n",
    "\n",
    "batch_size = 400\n",
    "Nh = 200\n",
    "Npam = 5\n",
    "n_epochs = 4000\n",
    "start_supervision_epoch = 10\n",
    "\n",
    "l1b = 0.25\n",
    "l2 = 0.5\n",
    "lambda_pa = 0.00\n",
    "lr = 0.0001\n",
    "\n",
    "visible_layers = [\"pi\"]\n",
    "hidden_layers = [\"hidden\"]"
   ]
  },
  {
   "cell_type": "code",
   "execution_count": null,
   "id": "fa9dddf2",
   "metadata": {
    "ExecuteTime": {
     "end_time": "2022-12-08T14:17:48.107520Z",
     "start_time": "2022-12-08T14:17:47.830614Z"
    }
   },
   "outputs": [],
   "source": [
    "import pandas as pd\n",
    "from scipy.stats import *\n",
    "\n",
    "import seaborn as sns\n",
    "from sklearn.cluster import AgglomerativeClustering\n",
    "from scipy.stats import *\n",
    "from sklearn.linear_model import *\n",
    "from sklearn.ensemble import *\n",
    "from sklearn.naive_bayes import *\n",
    "from sklearn.svm import *\n",
    "from sklearn.neighbors import *\n",
    "from sklearn.preprocessing import *\n",
    "from sklearn.model_selection import *\n",
    "\n",
    "\n",
    "def test_accept(X, pam):\n",
    "    accept = []\n",
    "    for x in X:\n",
    "        accept_ = 1\n",
    "        for i, (x_, n) in enumerate(zip(x, pam)):\n",
    "            if x_[NUC_IDS[n]] == 0:\n",
    "                accept_ = 0\n",
    "        accept.append(accept_)\n",
    "    return accept\n",
    "\n",
    "def test_position(X, i):\n",
    "    return [int(x[i].sum() == 4) if len(x)>i else 1 for x in X]\n",
    "\n",
    "def test_position_aa(X, i, j):\n",
    "    return [int(x[i,j] == 1) if len(x)>i else 1 for x in X]"
   ]
  },
  {
   "cell_type": "code",
   "execution_count": null,
   "id": "04c19603",
   "metadata": {
    "ExecuteTime": {
     "end_time": "2022-12-08T14:17:48.661556Z",
     "start_time": "2022-12-08T14:17:48.650904Z"
    }
   },
   "outputs": [],
   "source": [
    "gammas = gammas = [1]+[2*1.05**i for i in range(50)]+[0]+[1e-7*1.05**i for i in range(100)]+[1.4**i/1000 for i in range(50)]+[0.01*1.05**i for i in range(150)]+[0.0001*1.05**i for i in range(100)]+[1e-5*1.05**i for i in range(50)]+[10000*1.1**i for i in range(50)]+[20*1.08**i for i in range(50)]\n",
    "gammas = sorted(gammas)\n",
    "best_epoch = 90"
   ]
  },
  {
   "cell_type": "code",
   "execution_count": null,
   "id": "29c72ca8",
   "metadata": {
    "ExecuteTime": {
     "end_time": "2022-12-08T14:23:00.437164Z",
     "start_time": "2022-12-08T14:22:06.718580Z"
    }
   },
   "outputs": [],
   "source": [
    "vink_data = torch.load(f\"/home/malbranke/data/cas9/vink/data.pt\")\n",
    "data = torch.stack(list(vink_data[\"x\"]),0)\n",
    "X_train = []\n",
    "for x in data:\n",
    "    x_ = torch.zeros(21,736)\n",
    "    x_[1:] = x\n",
    "    x_[0] = 1-x.sum(0)\n",
    "    X_train.append(x_.flatten())\n",
    "X_train = torch.stack(X_train,0)[-154:]\n",
    "\n",
    "Xs_train_pi_ssl = []\n",
    "Xs_train_predict = []\n",
    "for gamma in tqdm_notebook(gammas):\n",
    "    model_full_name = f\"rbmssl2_pid_h{Nh}_npam{Npam}_gamma{gamma}\"\n",
    "    model_rbm_ssl.load(f\"{DATA}/cas9/vink/weights/{model_full_name}_{best_epoch}.h5\")\n",
    "    #model_rbm_ssl.ais()\n",
    "    model_rbm_ssl = model_rbm_ssl.to(\"cpu\")\n",
    "    X_pi_ssl = model_rbm_ssl.edges[\"pi -> hidden\"](X_train, False)\n",
    "    Xs_train_pi_ssl.append(X_pi_ssl)\n",
    "    Xs_train_predict.append(model_rbm_ssl.classifier(X_pi_ssl))\n"
   ]
  },
  {
   "cell_type": "code",
   "execution_count": null,
   "id": "50fc3f86",
   "metadata": {
    "ExecuteTime": {
     "end_time": "2022-12-08T14:23:33.506871Z",
     "start_time": "2022-12-08T14:23:32.006725Z"
    }
   },
   "outputs": [],
   "source": [
    "Y_ = []\n",
    "for pam in vink_data[\"y\"][-154:]: \n",
    "    Y_.append(pam[:4])\n",
    "Y_ = torch.stack(Y_,0)\n",
    "Y_train = []\n",
    "for pam in PAM4:\n",
    "    Y_train.append(test_accept(Y_, pam))\n",
    "Y_train = torch.tensor(Y_train).int()"
   ]
  },
  {
   "cell_type": "code",
   "execution_count": null,
   "id": "ec159c86",
   "metadata": {
    "ExecuteTime": {
     "end_time": "2022-12-08T14:27:13.209831Z",
     "start_time": "2022-12-08T14:25:55.571862Z"
    },
    "code_folding": [
     12
    ],
    "scrolled": true
   },
   "outputs": [],
   "source": [
    "df_pivot = pd.read_csv(f\"/home/malbranke/data//cas9//walton/df_pivot.csv\", index_col = 0)\n",
    "X_seq = torch.zeros(len(df_pivot), 40, len(nnz_idx))\n",
    "for i, seq in enumerate(df_pivot.pi_seq):\n",
    "    X_seq[i, :20] = torch.tensor(to_onehot([AA_IDS[x] for x in seq], (None, 20)).T)\n",
    "    \n",
    "X_test = torch.zeros(len(df_pivot), 21, collias_data[\"pi_msa\"][0].size(-1))\n",
    "for i, seq in enumerate(df_pivot.pi_msa):\n",
    "    X_test[i] = torch.tensor(to_onehot([AA_IDS[x]+1 if x in AA else 0 for x in seq], (None, 21)).T).float()\n",
    "walton_data = {\"pam\":[torch.ones(4,4) for _ in range(len(df_pivot))], \"pi_seq\":list(X_seq)}\n",
    "\n",
    "Xs_pi_ssl = []\n",
    "Xs_predict = []\n",
    "preds2 = []\n",
    "with torch.no_grad():\n",
    "    for gamma in tqdm_notebook(gammas):\n",
    "        model_full_name = f\"rbmssl2_pid_h{Nh}_npam{Npam}_gamma{gamma}\"\n",
    "        model_rbm_ssl.load(f\"{DATA}/cas9/vink/weights/{model_full_name}_{best_epoch}.h5\")\n",
    "        #model_rbm_ssl.ais()\n",
    "        model_rbm_ssl = model_rbm_ssl.to(\"cpu\")\n",
    "        X_pi_ssl = model_rbm_ssl.edges[\"pi -> hidden\"](X_test, False)\n",
    "        Xs_pi_ssl.append(X_pi_ssl)\n",
    "        Xs_predict.append(model_rbm_ssl.classifier(X_pi_ssl))\n",
    "        preds2.append(model_rbm_ssl.val_classifier(val_loader_labelled, visible_layers, hidden_layers, 0))\n"
   ]
  },
  {
   "cell_type": "code",
   "execution_count": null,
   "id": "0bfece9f",
   "metadata": {
    "ExecuteTime": {
     "end_time": "2022-09-14T13:12:13.972785Z",
     "start_time": "2022-09-14T13:12:06.399437Z"
    },
    "scrolled": true
   },
   "outputs": [],
   "source": [
    "df_pivot = pd.read_csv(f\"/home/malbranke/data//cas9//walton/df_pivot.csv\", index_col = 0)\n",
    "X_seq = torch.zeros(len(df_pivot), 40, len(nnz_idx))\n",
    "for i, seq in enumerate(df_pivot.pi_seq):\n",
    "    X_seq[i, :20] = torch.tensor(to_onehot([AA_IDS[x] for x in seq], (None, 20)).T)\n",
    "    \n",
    "X_test = torch.zeros(len(df_pivot), 21, collias_data[\"pi_msa\"][0].size(-1))\n",
    "for i, seq in enumerate(df_pivot.pi_msa):\n",
    "    X_test[i] = torch.tensor(to_onehot([AA_IDS[x]+1 if x in AA else 0 for x in seq], (None, 21)).T).float()\n",
    "walton_data = {\"pam\":[torch.ones(4,4) for _ in range(len(df_pivot))], \"pi_seq\":list(X_seq)}\n",
    "\n",
    "Xs_pi_ssl = []\n",
    "Xs_predict = []\n",
    "preds3 = []\n",
    "with torch.no_grad():\n",
    "    for gamma in tqdm_notebook(gammas):\n",
    "        model_full_name = f\"classifier_rbmssl2_pid_h{Nh}_npam{Npam}_gamma{gamma}\"\n",
    "        model_rbm_ssl.load(f\"{DATA}/cas9/vink/weights/{model_full_name}_{best_epoch}.h5\")\n",
    "        #model_rbm_ssl.ais()\n",
    "        model_rbm_ssl = model_rbm_ssl.to(\"cpu\")\n",
    "        X_pi_ssl = model_rbm_ssl.edges[\"pi -> hidden\"](X_test, False)\n",
    "        Xs_pi_ssl.append(X_pi_ssl)\n",
    "        Xs_predict.append(model_rbm_ssl.classifier(X_pi_ssl))\n",
    "        preds3.append(model_rbm_ssl.val_classifier(val_loader_labelled, visible_layers, hidden_layers, 0))"
   ]
  },
  {
   "cell_type": "code",
   "execution_count": null,
   "id": "c6618234",
   "metadata": {
    "ExecuteTime": {
     "end_time": "2022-07-29T09:42:22.864610Z",
     "start_time": "2022-07-29T09:42:21.020297Z"
    },
    "code_folding": [
     0,
     32
    ]
   },
   "outputs": [],
   "source": [
    "class PAM_classifier2(nn.Module):\n",
    "    def __init__(self, in_features, out_features, dropout = 0.8):\n",
    "        super(PAM_classifier2, self).__init__()\n",
    "        self.bn1 = nn.BatchNorm1d(in_features)\n",
    "        self.bn2 = nn.BatchNorm1d(50)\n",
    "\n",
    "        self.linear1 = nn.Linear(in_features, 50)\n",
    "        self.linear2 = nn.Linear(50, out_features)\n",
    "\n",
    "    def forward(self, x):\n",
    "        return self.linear2(F.relu(self.bn2(self.linear1(F.relu(self.bn1(x))))))\n",
    "\n",
    "    def l1b_reg(self):\n",
    "        weights1 = self.linear1.weight.data\n",
    "        return weights1.pow(2).sum(0).sum(0)\n",
    "\n",
    "\n",
    "df_pivot = pd.read_csv(f\"/home/malbranke/data//cas9//walton/df_pivot.csv\", index_col = 0)\n",
    "X_seq = torch.zeros(len(df_pivot), 40, len(nnz_idx))\n",
    "for i, seq in enumerate(df_pivot.pi_seq):\n",
    "    X_seq[i, :20] = torch.tensor(to_onehot([AA_IDS[x] for x in seq], (None, 20)).T)\n",
    "    \n",
    "X_test = torch.zeros(len(df_pivot), 21, collias_data[\"pi_msa\"][0].size(-1))\n",
    "for i, seq in enumerate(df_pivot.pi_msa):\n",
    "    X_test[i] = torch.tensor(to_onehot([AA_IDS[x]+1 if x in AA else 0 for x in seq], (None, 21)).T).float()\n",
    "walton_data = {\"pam\":[torch.ones(4,4) for _ in range(len(df_pivot))], \"pi_seq\":list(X_seq)}\n",
    "\n",
    "Xs_pi_ssl = []\n",
    "Xs_predict = []\n",
    "preds4 = []\n",
    "classifier = PAM_classifier2(Nh, Npam * 4, dropout = 0.)\n",
    "model_rbm_ssl.classifier = classifier\n",
    "with torch.no_grad():\n",
    "    for gamma in tqdm_notebook(gammas):\n",
    "        model_full_name = f\"classifier2_rbmssl_drelu_pid_h{Nh}_npam{Npam}_gamma{gamma}\"\n",
    "        model_rbm_ssl.load(f\"{DATA}/cas9/vink/weights/{model_full_name}_{best_epoch}.h5\")\n",
    "        #model_rbm_ssl.ais()\n",
    "        model_rbm_ssl = model_rbm_ssl.to(\"cpu\")\n",
    "        X_pi_ssl = model_rbm_ssl.edges[\"pi -> hidden\"](X_test, False)\n",
    "        Xs_pi_ssl.append(X_pi_ssl)\n",
    "        Xs_predict.append(model_rbm_ssl.classifier(X_pi_ssl))\n",
    "        preds4.append(model_rbm_ssl.val_classifier(val_loader_labelled, visible_layers, hidden_layers, 0))"
   ]
  },
  {
   "cell_type": "code",
   "execution_count": null,
   "id": "54527230",
   "metadata": {
    "ExecuteTime": {
     "end_time": "2022-12-08T14:27:57.328689Z",
     "start_time": "2022-12-08T14:27:57.310573Z"
    }
   },
   "outputs": [],
   "source": [
    "from scipy.ndimage import *"
   ]
  },
  {
   "cell_type": "code",
   "execution_count": null,
   "id": "954fb870",
   "metadata": {
    "ExecuteTime": {
     "end_time": "2022-12-08T14:28:02.331523Z",
     "start_time": "2022-12-08T14:28:00.617163Z"
    }
   },
   "outputs": [],
   "source": [
    "n = 30\n",
    "values = np.array([x[1] for x in preds2])\n",
    "plt.plot(gammas[1:], gaussian_filter1d(values[1:],n, mode=\"nearest\"), c=\"red\")\n",
    "\n",
    "fvalues = gaussian_filter1d(values[1:],n, mode=\"nearest\")\n",
    "errors = np.array([np.std(values[i:i+n]) for i in range(1,len(values)-n)])\n",
    "plt.fill_between(gammas[n//2+1:-n//2], fvalues[n//2:-n//2]-errors, fvalues[n//2:-n//2]+errors, color=\"red\", alpha = 0.2)\n",
    "\n",
    "plt.xscale(\"log\")\n",
    "plt.ylim(0.7,0.95)\n",
    "plt.xlim(1e-6,1e5)\n",
    "plt.xlabel(\"Gamma (strength of the classifier)\")\n",
    "plt.ylabel(\"Balanced Accuracy for PAM prediction\")"
   ]
  },
  {
   "cell_type": "code",
   "execution_count": null,
   "id": "8676a4e2",
   "metadata": {
    "ExecuteTime": {
     "end_time": "2022-12-08T14:28:37.978952Z",
     "start_time": "2022-12-08T14:28:37.931625Z"
    }
   },
   "outputs": [],
   "source": [
    "n = 20\n",
    "Y = np.array((np.log10(df_pivot[PAM4].values.T) > -3.5), dtype=int)\n",
    "Y = torch.tensor(np.log10(df_pivot[PAM4].values.T))"
   ]
  },
  {
   "cell_type": "code",
   "execution_count": null,
   "id": "79775a2c",
   "metadata": {
    "ExecuteTime": {
     "end_time": "2022-12-08T14:28:42.353886Z",
     "start_time": "2022-12-08T14:28:42.349970Z"
    }
   },
   "outputs": [],
   "source": [
    "def safe_roc_auc_score(y, pred):\n",
    "    spear = roc_auc_score(y, pred) #spearmanr(y, pred)[0]\n",
    "    return spear"
   ]
  },
  {
   "cell_type": "code",
   "execution_count": null,
   "id": "609ca314",
   "metadata": {
    "ExecuteTime": {
     "start_time": "2022-12-08T14:29:42.960Z"
    },
    "code_folding": []
   },
   "outputs": [],
   "source": [
    "pears = []\n",
    "spears = []\n",
    "p_vals = []\n",
    "\n",
    "clfs = []\n",
    "all_preds = []\n",
    "all_y = []\n",
    "all_accepted = []\n",
    "nb_data = []\n",
    "with torch.no_grad():\n",
    "    for X_train_pi_ssl, X_pi_ssl, X_pred in tqdm_notebook(zip(Xs_train_pi_ssl, Xs_pi_ssl, Xs_predict)):\n",
    "        for i, (lit_pam, pam) in enumerate(zip(PAM4,PAM4_tensor)):\n",
    "            preds = []\n",
    "            y_train = Y_train[i]\n",
    "            y_test = Y[i]\n",
    "            y_test_discrete  = np.array((y_test > -3.5), dtype=int)\n",
    "            y_test = np.array((y_test > -3.5), dtype=int)\n",
    "\n",
    "            if np.abs(0.5-np.mean(y_train.float().numpy()))>=0.45 or np.abs(0.5-np.mean(y_test_discrete))>=0.45:\n",
    "                continue\n",
    "\n",
    "                all_y.append(y_test)\n",
    "            all_accepted.append(lit_pam)\n",
    "\n",
    "            pred = X_pred.view(-1,5,4)[:,torch.arange(4),pam.argmax(0)].mean(-1).detach()\n",
    "            preds.append(pred.numpy())\n",
    "            pear_, spear_, p_val_ = [],[],[]\n",
    "\n",
    "            pear = pearsonr(y_test, pred)[0]\n",
    "            #spear = spearmanr(y_test, pred)[0] \n",
    "            spear = safe_roc_auc_score(y_test, pred)\n",
    "            p_val = spearmanr(y_test, pred,alternative=\"greater\")[1]\n",
    "\n",
    "            pears.append(pear)\n",
    "            spears.append(spear)\n",
    "            p_vals.append(p_val)\n",
    "\n",
    "            #print(f\"{lit_pam} || CLASSIFIER || Pearson : {pear:.3f} || Spearman : {spear:.3f} || Significance : {-np.log10(p_val):.2f}\")\n",
    "            pear_, spear_, p_val_ = [],[],[]\n",
    "            for zero, name, x_train, x_test in zip([], [\"LogRegCV\"],[X_train_pi_ssl], [X_pi_ssl]):\n",
    "                clf = LogisticRegressionCV() \n",
    "                scaler = StandardScaler().fit(x_train)\n",
    "                clf.fit(scaler.transform(x_train), y_train)\n",
    "                pred = clf.predict_proba(scaler.transform(x_test))[:,1]\n",
    "                pear = pearsonr(y_test, pred)[0]\n",
    "                spear = spearmanr(y_test, pred, alternative=\"greater\")[0] #\n",
    "                spear = safe_roc_auc_score(y_test, pred)\n",
    "                p_val = spearmanr(y_test, pred, alternative=\"greater\")[1]\n",
    "\n",
    "                preds.append(pred)\n",
    "                pears.append(pear)\n",
    "                spears.append(spear)\n",
    "                p_vals.append(p_val)\n",
    "                #print(f\"{lit_pam} || {name} || Pearson : {pear:.3f} || Spearman : {spear:.3f} || Significance : {-np.log10(p_val):.2f}\")\n",
    "            for name, x_train, x_test in zip([\"LogReg\"],[X_train_pi_ssl], [X_pi_ssl]):\n",
    "                clf = LogisticRegression() \n",
    "                scaler = StandardScaler().fit(x_train)\n",
    "                clf.fit(scaler.transform(x_train), y_train)\n",
    "                pred = clf.predict_proba(scaler.transform(x_test))[:,1]\n",
    "                pear = pearsonr(y_test, pred)[0]\n",
    "                spear = spearmanr(y_test, pred, alternative=\"greater\")[0] #\n",
    "                spear = safe_roc_auc_score(y_test, pred)\n",
    "                p_val = spearmanr(y_test, pred, alternative=\"greater\")[1]\n",
    "\n",
    "                preds.append(pred)\n",
    "                pears.append(pear)\n",
    "                spears.append(spear)\n",
    "                p_vals.append(p_val)\n",
    "                #print(f\"{lit_pam} || {name} || Pearson : {pear:.3f} || Spearman : {spear:.3f} || Significance : {-np.log10(p_val):.2f}\")\n",
    "\n",
    "                 #print(f\"{lit_pam} || {name} || AUC : {spear:.3f}\")\n",
    "            all_preds.append(preds)\n",
    "            #print()"
   ]
  },
  {
   "cell_type": "code",
   "execution_count": null,
   "id": "260f1c1a",
   "metadata": {
    "ExecuteTime": {
     "end_time": "2022-12-08T23:39:23.142857Z",
     "start_time": "2022-12-08T23:39:22.996212Z"
    }
   },
   "outputs": [],
   "source": [
    "np.array(all_preds).shape"
   ]
  },
  {
   "cell_type": "code",
   "execution_count": null,
   "id": "5789c504",
   "metadata": {
    "ExecuteTime": {
     "end_time": "2022-12-08T23:40:34.042330Z",
     "start_time": "2022-12-08T23:40:33.901876Z"
    }
   },
   "outputs": [],
   "source": [
    "np.array(all_preds).reshape(-1, len(all_accepted_idx),2,105)[300,-1,0, 105]"
   ]
  },
  {
   "cell_type": "code",
   "execution_count": null,
   "id": "7d458cb5",
   "metadata": {
    "ExecuteTime": {
     "end_time": "2022-12-08T16:12:44.358744Z",
     "start_time": "2022-12-08T16:12:44.167743Z"
    }
   },
   "outputs": [],
   "source": [
    "all_accepted_idx = []\n",
    "with torch.no_grad():\n",
    "    for X_train_pi_ssl, X_pi_ssl, X_pred in tqdm_notebook(zip(Xs_train_pi_ssl, Xs_pi_ssl, Xs_predict)):\n",
    "        for i, (lit_pam, pam) in enumerate(zip(PAM4,PAM4_tensor)):\n",
    "            y_train = Y_train[i]\n",
    "            y_test = Y[i]\n",
    "            y_test_discrete  = np.array((y_test > -3.5), dtype=int)\n",
    "            y_test = np.array((y_test > -3.5), dtype=int)\n",
    "\n",
    "            if np.abs(0.5-np.mean(y_train.float().numpy()))>=0.45 or np.abs(0.5-np.mean(y_test_discrete))>=0.45:\n",
    "                continue\n",
    "            all_accepted_idx.append(i)\n",
    "        break"
   ]
  },
  {
   "cell_type": "code",
   "execution_count": null,
   "id": "afcfa9fe",
   "metadata": {
    "ExecuteTime": {
     "end_time": "2022-12-08T23:27:47.435346Z",
     "start_time": "2022-12-08T23:27:47.349165Z"
    }
   },
   "outputs": [],
   "source": [
    "Y2 = torch.zeros(16,105)\n",
    "for k, (j, nuc) in tqdm_notebook(enumerate(product(range(4), \"ATCG\"))):\n",
    "    for i, (lit_pam, pam) in enumerate(zip(PAM4,PAM4_tensor)):\n",
    "        if lit_pam[j] == nuc:\n",
    "            Y2[k] += torch.exp(Y[i]*np.log(10))\n",
    "Y2 = Y2.reshape(4,4,-1)\n",
    "(Y2[:,:]/Y2.sum(1)[:,None])[:,:,-4]\n",
    "Y2 = Y2.reshape(4,4,-1)\n",
    "R = 2+ (Y2 * np.log2(Y2)).sum(1)[:,None]\n",
    "Y2 = Y2/Y2.sum(1)[:,None]*R\n"
   ]
  },
  {
   "cell_type": "code",
   "execution_count": null,
   "id": "1afabdc4",
   "metadata": {
    "ExecuteTime": {
     "end_time": "2022-12-08T23:27:04.550370Z",
     "start_time": "2022-12-08T23:27:04.442300Z"
    },
    "code_folding": []
   },
   "outputs": [],
   "source": [
    "Y2 = torch.zeros(16,105)\n",
    "for k, (j, nuc) in tqdm_notebook(enumerate(product(range(4), \"ATCG\"))):\n",
    "    for i, (lit_pam, pam) in enumerate(zip(PAM4,PAM4_tensor)):\n",
    "        if lit_pam[j] == nuc:\n",
    "            Y2[k] += torch.exp(Y[i]*np.log(10))\n",
    "Y2 = Y2.reshape(4,4,-1)\n",
    "R = 2+ (Y2 * np.log2(Y2)).sum(1)[:,None]\n",
    "Y2 = Y2/Y2.sum(1)[:,None]*R\n"
   ]
  },
  {
   "cell_type": "code",
   "execution_count": null,
   "id": "3d076935",
   "metadata": {
    "ExecuteTime": {
     "end_time": "2022-12-09T13:13:53.604090Z",
     "start_time": "2022-12-09T13:13:53.585046Z"
    }
   },
   "outputs": [],
   "source": [
    "gammas"
   ]
  },
  {
   "cell_type": "code",
   "execution_count": null,
   "id": "583e717a",
   "metadata": {
    "ExecuteTime": {
     "end_time": "2022-12-08T23:48:21.606180Z",
     "start_time": "2022-12-08T23:48:21.596537Z"
    }
   },
   "outputs": [],
   "source": [
    "Xs_train_pi_ssl[300].shape"
   ]
  },
  {
   "cell_type": "code",
   "execution_count": null,
   "id": "d61a5a34",
   "metadata": {
    "ExecuteTime": {
     "end_time": "2022-12-08T23:48:43.148836Z",
     "start_time": "2022-12-08T23:48:43.059595Z"
    }
   },
   "outputs": [],
   "source": [
    "from sklearn.decomposition import *\n",
    "with torch.no_grad():\n",
    "    pcaer = PCA(3).fit(Xs_train_pi_ssl[300])\n",
    "    X_pca = pcaer.transform(Xs_pi_ssl[300])"
   ]
  },
  {
   "cell_type": "code",
   "execution_count": null,
   "id": "edef5bbf",
   "metadata": {
    "ExecuteTime": {
     "end_time": "2022-12-08T23:50:17.003979Z",
     "start_time": "2022-12-08T23:48:46.443123Z"
    },
    "scrolled": false
   },
   "outputs": [],
   "source": [
    "plt.figure(figsize = (30,120))\n",
    "for i, pam in enumerate(PAM4):\n",
    "    y = Y[i]\n",
    "\n",
    "    plt.subplot(32,8,i+1)\n",
    "    colors = np.array([\"red\", \"green\"])\n",
    "    plt.scatter(X_pca[:,0],X_pca[:,1], c=colors[(y>-3.5).int().numpy()])\n",
    "    plt.title(pam)\n",
    "plt.show()"
   ]
  },
  {
   "cell_type": "code",
   "execution_count": null,
   "id": "6d3b66b3",
   "metadata": {
    "ExecuteTime": {
     "end_time": "2022-11-02T17:21:43.955451Z",
     "start_time": "2022-11-02T17:19:48.424411Z"
    }
   },
   "outputs": [],
   "source": [
    "\n",
    "plt.figure(figsize = (30,120))\n",
    "for i, pam in enumerate(PAM4):\n",
    "    y = Y[i]\n",
    "\n",
    "    plt.subplot(32,8,i+1)\n",
    "    colors = np.array([\"red\", \"green\"])\n",
    "    plt.scatter(X_pca[:,0],X_pca[:,1], c=colors[(y>-3.5).int().numpy()])\n",
    "    plt.title(pam)\n",
    "    plt.xlim(-0.6,0.5)\n",
    "    plt.ylim(-0.07,0.05)\n",
    "plt.show()"
   ]
  },
  {
   "cell_type": "code",
   "execution_count": null,
   "id": "794c9b82",
   "metadata": {
    "ExecuteTime": {
     "end_time": "2022-11-01T18:55:37.676539Z",
     "start_time": "2022-11-01T18:55:37.667974Z"
    },
    "scrolled": true
   },
   "outputs": [],
   "source": [
    "Xs_predict[300].reshape(-1, 5,4).softmax(-1)[:,:-1].permute(1,2,0).size()"
   ]
  },
  {
   "cell_type": "code",
   "execution_count": null,
   "id": "b44c3ece",
   "metadata": {
    "ExecuteTime": {
     "end_time": "2022-12-08T23:33:15.678893Z",
     "start_time": "2022-12-08T23:33:15.669972Z"
    }
   },
   "outputs": [],
   "source": [
    "Y2_pred = (Xs_predict[300]/2).reshape(-1, 5,4)[:,:-1].sigmoid().permute(1,2,0)\n",
    "Y2_pred = Y2_pred/(Y2_pred.sum(1)[:,None])\n",
    "R = 2+ (Y2_pred * np.log2(Y2_pred)).sum(1)[:,None]\n",
    "Y2_pred = Y2_pred/Y2_pred.sum(1)[:,None]*R"
   ]
  },
  {
   "cell_type": "code",
   "execution_count": null,
   "id": "26ffbb5a",
   "metadata": {
    "ExecuteTime": {
     "end_time": "2022-10-25T13:52:12.188164Z",
     "start_time": "2022-10-25T13:52:12.178563Z"
    }
   },
   "outputs": [],
   "source": [
    "import seaborn as sns\n",
    "\n",
    "sns.set_style(\"whitegrid\")"
   ]
  },
  {
   "cell_type": "code",
   "execution_count": null,
   "id": "20594d32",
   "metadata": {
    "ExecuteTime": {
     "end_time": "2022-09-14T12:42:11.048248Z",
     "start_time": "2022-09-14T12:42:10.990365Z"
    }
   },
   "outputs": [],
   "source": [
    "all_accepted_idx = []\n",
    "with torch.no_grad():\n",
    "    for X_train_pi_ssl, X_pi_ssl, X_pred in tqdm_notebook(zip(Xs_train_pi_ssl, Xs_pi_ssl, Xs_predict)):\n",
    "        for i, (lit_pam, pam) in enumerate(zip(PAM4,PAM4_tensor)):\n",
    "            y_train = Y_train[i]\n",
    "            y_test = Y[i]\n",
    "            y_test_discrete  = np.array((y_test > -3.5), dtype=int)\n",
    "            y_test = np.array((y_test > -3.5), dtype=int)\n",
    "\n",
    "            if np.abs(0.5-np.mean(y_train.float().numpy()))>=0.45 or np.abs(0.5-np.mean(y_test_discrete))>=0.45:\n",
    "                continue\n",
    "            all_accepted_idx.append(i)\n",
    "        break"
   ]
  },
  {
   "cell_type": "code",
   "execution_count": null,
   "id": "3083d2f6",
   "metadata": {
    "ExecuteTime": {
     "end_time": "2022-12-08T18:02:40.784076Z",
     "start_time": "2022-12-08T18:02:40.777570Z"
    }
   },
   "outputs": [],
   "source": [
    "0"
   ]
  },
  {
   "cell_type": "code",
   "execution_count": null,
   "id": "45146530",
   "metadata": {
    "ExecuteTime": {
     "end_time": "2022-12-08T23:45:21.689629Z",
     "start_time": "2022-12-08T23:45:20.840418Z"
    }
   },
   "outputs": [],
   "source": [
    "values = np.median(np.array(spears).reshape(len(gammas),-1,2),1)\n",
    "n=50\n",
    "plt.plot(gammas[1:], gaussian_filter1d(values[1:,0],n, mode=\"nearest\"), c=\"blue\")\n",
    "plt.plot(gammas[1:], gaussian_filter1d(values[1:,1],n,  mode=\"nearest\"), c=\"red\")\n",
    "\n",
    "\n",
    "fvalues = gaussian_filter1d(values[1:,0],n, mode=\"nearest\")\n",
    "errors = np.array([np.std(values[i:i+n,0]) for i in range(1,len(values)-n)])\n",
    "plt.fill_between(gammas[n//2+1:-n//2], fvalues[n//2:-n//2]-errors, fvalues[n//2:-n//2]+errors, color=\"blue\", alpha = 0.2)\n",
    "\n",
    "plt.plot(gammas[1:], gaussian_filter1d(values[1:,1],n,  mode=\"nearest\"), c=\"red\")\n",
    "\n",
    "fvalues = gaussian_filter1d(values[1:,1],n, mode=\"nearest\")\n",
    "errors = np.array([np.std(values[i:i+n,1]) for i in range(1,len(values)-n)])\n",
    "plt.fill_between(gammas[n//2+1:-n//2], fvalues[n//2:-n//2]-errors, fvalues[n//2:-n//2]+errors, color=\"red\", alpha = 0.2)\n",
    "\n",
    "plt.legend([\"Classifier\", \"LogReg + L2 over Repr. Layer\", \"LogReg over Repr. Layer\"])\n",
    "plt.xlabel(\"Gamma (Strength of the classifer)\")\n",
    "plt.ylabel(\"Median AUROC\")\n",
    "plt.xlim(1e-2,1e2)\n",
    "plt.xscale(\"log\")\n"
   ]
  },
  {
   "cell_type": "code",
   "execution_count": null,
   "id": "4b65c7a7",
   "metadata": {
    "ExecuteTime": {
     "end_time": "2022-10-04T09:11:17.332642Z",
     "start_time": "2022-10-04T09:11:17.332630Z"
    }
   },
   "outputs": [],
   "source": [
    "plt.figure(figsize=(25,70))\n",
    "for i, idx in zip(range(83),all_accepted_idx):\n",
    "    lit = PAM4[idx]\n",
    "    balance_train = int(np.array(Y_train[idx]).mean()*100)\n",
    "\n",
    "    balance_test = int(np.array((Y[idx] > -3.5), dtype=int).mean()*100)\n",
    "    \n",
    "    plt.subplot(17,5,i+1)\n",
    "    values = np.array(spears).reshape(len(gammas),-1,3)[:,i]\n",
    "    n=20\n",
    "    plt.plot(gammas[1:], gaussian_filter1d(values[1:,0],n, mode=\"nearest\"), c=\"blue\")\n",
    "    plt.plot(gammas[1:], gaussian_filter1d(values[1:,1],n,  mode=\"nearest\"), c=\"red\")\n",
    "    plt.plot(gammas[1:], gaussian_filter1d(values[1:,2],n,  mode=\"nearest\"), c=\"green\")\n",
    "\n",
    "\n",
    "    fvalues = gaussian_filter1d(values[1:,0],n, mode=\"nearest\")\n",
    "    errors = np.array([np.std(values[i:i+n,0]) for i in range(1,len(values)-n)])\n",
    "    plt.fill_between(gammas[n//2+1:-n//2], fvalues[n//2:-n//2]-errors, fvalues[n//2:-n//2]+errors, color=\"blue\", alpha = 0.2)\n",
    "\n",
    "    fvalues = gaussian_filter1d(values[1:,1],n, mode=\"nearest\")\n",
    "    errors = np.array([np.std(values[i:i+n,1]) for i in range(1,len(values)-n)])\n",
    "    plt.fill_between(gammas[n//2+1:-n//2], fvalues[n//2:-n//2]-errors, fvalues[n//2:-n//2]+errors, color=\"red\", alpha = 0.2)\n",
    "    \n",
    "    fvalues = gaussian_filter1d(values[1:,2],n, mode=\"nearest\")\n",
    "    errors = np.array([np.std(values[i:i+n,1]) for i in range(1,len(values)-n)])\n",
    "    plt.fill_between(gammas[n//2+1:-n//2], fvalues[n//2:-n//2]-errors, fvalues[n//2:-n//2]+errors, color=\"green\", alpha = 0.2)\n",
    "\n",
    "    \n",
    "    plt.legend([\"Classifier\", \"LogReg + L2 over Repr. Layer\", \"LogReg over Repr. Layer\"])\n",
    "    plt.title(f\"{lit} : Train {balance_train}%+ / Test {balance_test}%+\")\n",
    "    plt.xscale(\"log\")\n"
   ]
  },
  {
   "cell_type": "code",
   "execution_count": null,
   "id": "28e27fc3",
   "metadata": {
    "ExecuteTime": {
     "end_time": "2022-12-08T23:16:37.104182Z",
     "start_time": "2022-12-08T23:16:37.076158Z"
    }
   },
   "outputs": [],
   "source": [
    "from weblogo import Logo"
   ]
  },
  {
   "cell_type": "code",
   "execution_count": null,
   "id": "12db94c1",
   "metadata": {
    "ExecuteTime": {
     "end_time": "2022-12-08T23:17:48.545921Z",
     "start_time": "2022-12-08T23:17:46.188557Z"
    }
   },
   "outputs": [],
   "source": [
    "from logomaker import Logo"
   ]
  },
  {
   "cell_type": "code",
   "execution_count": null,
   "id": "b633e989",
   "metadata": {
    "ExecuteTime": {
     "end_time": "2022-12-08T23:34:40.526268Z",
     "start_time": "2022-12-08T23:33:27.947010Z"
    }
   },
   "outputs": [],
   "source": [
    "idx = -5\n",
    "\n",
    "df = pd.DataFrame(columns = [\"A\",\"T\",\"C\",\"G\"])\n",
    "df.loc[1] = list(Y2[0,:,idx].numpy())\n",
    "df.loc[2] = list(Y2[1,:,idx].numpy())\n",
    "df.loc[3] = list(Y2[2,:,idx].numpy())\n",
    "df.loc[4] = list(Y2[3,:,idx].numpy())\n",
    "\n",
    "df = pd.DataFrame(columns = [\"A\",\"T\",\"C\",\"G\"])\n",
    "\n",
    "\n",
    "\n",
    "# Create subplots\n",
    "\n",
    "\n",
    "# Draw weblogos for each frequency matrix\n",
    "for i in range(105):\n",
    "    \n",
    "    fig, axs = plt.subplots(1, 2, figsize=(10, 2))\n",
    "    df.loc[1] = list(Y2[0,:,i].numpy())\n",
    "    df.loc[2] = list(Y2[1,:,i].numpy())\n",
    "    df.loc[3] = list(Y2[2,:,i].numpy())\n",
    "    df.loc[4] = list(Y2[3,:,i].numpy())\n",
    "\n",
    "    Logo(df,shade_below=.5,ax = axs[0],\n",
    "                              fade_below=.5,\n",
    "                              font_name='Arial Rounded MT Bold')\n",
    "\n",
    "    \n",
    "    df.loc[1] = list(Y2_pred[0,:,i].numpy())\n",
    "    df.loc[2] = list(Y2_pred[1,:,i].numpy())\n",
    "    df.loc[3] = list(Y2_pred[2,:,i].numpy())\n",
    "    df.loc[4] = list(Y2_pred[3,:,i].numpy())\n",
    "\n",
    "    Logo(df,shade_below=.5,ax = axs[1],\n",
    "                              fade_below=.5,\n",
    "                              font_name='Arial Rounded MT Bold')\n",
    "    axs[0].set_ylim(0,2)\n",
    "    axs[1].set_ylim(0,2)\n",
    "    plt.title(df_pivot.index[i])\n",
    "    plt.show()\n"
   ]
  },
  {
   "cell_type": "code",
   "execution_count": null,
   "id": "5b6af69c",
   "metadata": {
    "ExecuteTime": {
     "end_time": "2022-12-08T23:30:19.397117Z",
     "start_time": "2022-12-08T23:30:19.390253Z"
    }
   },
   "outputs": [],
   "source": []
  }
 ],
 "metadata": {
  "kernelspec": {
   "display_name": "Python 3 (ipykernel)",
   "language": "python",
   "name": "python3"
  },
  "language_info": {
   "codemirror_mode": {
    "name": "ipython",
    "version": 3
   },
   "file_extension": ".py",
   "mimetype": "text/x-python",
   "name": "python",
   "nbconvert_exporter": "python",
   "pygments_lexer": "ipython3",
   "version": "3.8.5"
  },
  "toc": {
   "base_numbering": 1,
   "nav_menu": {},
   "number_sections": true,
   "sideBar": true,
   "skip_h1_title": false,
   "title_cell": "Table of Contents",
   "title_sidebar": "Contents",
   "toc_cell": false,
   "toc_position": {},
   "toc_section_display": true,
   "toc_window_display": false
  },
  "varInspector": {
   "cols": {
    "lenName": 16,
    "lenType": 16,
    "lenVar": 40
   },
   "kernels_config": {
    "python": {
     "delete_cmd_postfix": "",
     "delete_cmd_prefix": "del ",
     "library": "var_list.py",
     "varRefreshCmd": "print(var_dic_list())"
    },
    "r": {
     "delete_cmd_postfix": ") ",
     "delete_cmd_prefix": "rm(",
     "library": "var_list.r",
     "varRefreshCmd": "cat(var_dic_list()) "
    }
   },
   "types_to_exclude": [
    "module",
    "function",
    "builtin_function_or_method",
    "instance",
    "_Feature"
   ],
   "window_display": false
  }
 },
 "nbformat": 4,
 "nbformat_minor": 5
}
